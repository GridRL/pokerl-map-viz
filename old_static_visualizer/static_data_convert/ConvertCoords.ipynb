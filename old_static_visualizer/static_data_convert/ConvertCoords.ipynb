{
 "cells": [
  {
   "cell_type": "code",
   "execution_count": 1,
   "id": "75de3ca9-21df-4fad-badd-ab3811ad6bb8",
   "metadata": {},
   "outputs": [],
   "source": [
    "import pandas as pd"
   ]
  },
  {
   "cell_type": "code",
   "execution_count": 2,
   "id": "da23a16f-4cb8-4e78-a34b-ef4b1dc5069f",
   "metadata": {},
   "outputs": [],
   "source": [
    "from game_map import local_to_global"
   ]
  },
  {
   "cell_type": "code",
   "execution_count": 33,
   "id": "3aef1a91-13a7-4e61-b715-192bf3d754d2",
   "metadata": {},
   "outputs": [],
   "source": [
    "from tqdm import tqdm\n",
    "import json"
   ]
  },
  {
   "cell_type": "code",
   "execution_count": 4,
   "id": "6efe5954-8a10-4d9c-af21-468bfb562de5",
   "metadata": {},
   "outputs": [
    {
     "name": "stdout",
     "output_type": "stream",
     "text": [
      "99975168_steps.csv.gz\n",
      "LICENSE\n",
      "Untitled.ipynb\n",
      "\u001b[34m__pycache__\u001b[m\u001b[m\n",
      "characters_transparent.png\n",
      "game_map.py\n",
      "global_coords_64_envs_8192_steps_76_games.csv.gz\n",
      "index.html\n",
      "kanto_big_done1.png\n",
      "map_data.json\n",
      "pixi.js\n",
      "test.csv.gz\n",
      "visualizer.js\n"
     ]
    }
   ],
   "source": [
    "!ls"
   ]
  },
  {
   "cell_type": "code",
   "execution_count": 5,
   "id": "5eaced85-2406-449d-b84f-1bbe22be2aa8",
   "metadata": {},
   "outputs": [],
   "source": [
    "column_names = ['id', 'reset', 'x', 'y', 'map']"
   ]
  },
  {
   "cell_type": "code",
   "execution_count": 6,
   "id": "c649389f-8106-4f69-8b6d-837b7e5877e2",
   "metadata": {},
   "outputs": [],
   "source": [
    "df = pd.read_csv(\"99975168_steps.csv.gz\", names=column_names)"
   ]
  },
  {
   "cell_type": "code",
   "execution_count": 7,
   "id": "ac990baf-d9c2-4f56-8cad-309a89d9ce3b",
   "metadata": {},
   "outputs": [
    {
     "data": {
      "text/html": [
       "<div>\n",
       "<style scoped>\n",
       "    .dataframe tbody tr th:only-of-type {\n",
       "        vertical-align: middle;\n",
       "    }\n",
       "\n",
       "    .dataframe tbody tr th {\n",
       "        vertical-align: top;\n",
       "    }\n",
       "\n",
       "    .dataframe thead th {\n",
       "        text-align: right;\n",
       "    }\n",
       "</style>\n",
       "<table border=\"1\" class=\"dataframe\">\n",
       "  <thead>\n",
       "    <tr style=\"text-align: right;\">\n",
       "      <th></th>\n",
       "      <th>id</th>\n",
       "      <th>reset</th>\n",
       "      <th>x</th>\n",
       "      <th>y</th>\n",
       "      <th>map</th>\n",
       "    </tr>\n",
       "  </thead>\n",
       "  <tbody>\n",
       "    <tr>\n",
       "      <th>0</th>\n",
       "      <td>session_fb32</td>\n",
       "      <td>1</td>\n",
       "      <td>3</td>\n",
       "      <td>5</td>\n",
       "      <td>40</td>\n",
       "    </tr>\n",
       "    <tr>\n",
       "      <th>1</th>\n",
       "      <td>session_0059</td>\n",
       "      <td>1</td>\n",
       "      <td>3</td>\n",
       "      <td>5</td>\n",
       "      <td>40</td>\n",
       "    </tr>\n",
       "    <tr>\n",
       "      <th>2</th>\n",
       "      <td>session_7401</td>\n",
       "      <td>1</td>\n",
       "      <td>3</td>\n",
       "      <td>5</td>\n",
       "      <td>40</td>\n",
       "    </tr>\n",
       "    <tr>\n",
       "      <th>3</th>\n",
       "      <td>session_f0b8</td>\n",
       "      <td>1</td>\n",
       "      <td>3</td>\n",
       "      <td>4</td>\n",
       "      <td>40</td>\n",
       "    </tr>\n",
       "    <tr>\n",
       "      <th>4</th>\n",
       "      <td>session_abcf</td>\n",
       "      <td>1</td>\n",
       "      <td>3</td>\n",
       "      <td>5</td>\n",
       "      <td>40</td>\n",
       "    </tr>\n",
       "    <tr>\n",
       "      <th>...</th>\n",
       "      <td>...</td>\n",
       "      <td>...</td>\n",
       "      <td>...</td>\n",
       "      <td>...</td>\n",
       "      <td>...</td>\n",
       "    </tr>\n",
       "    <tr>\n",
       "      <th>100165563</th>\n",
       "      <td>session_b66d</td>\n",
       "      <td>77</td>\n",
       "      <td>9</td>\n",
       "      <td>5</td>\n",
       "      <td>197</td>\n",
       "    </tr>\n",
       "    <tr>\n",
       "      <th>100165564</th>\n",
       "      <td>session_0e2b</td>\n",
       "      <td>77</td>\n",
       "      <td>2</td>\n",
       "      <td>29</td>\n",
       "      <td>22</td>\n",
       "    </tr>\n",
       "    <tr>\n",
       "      <th>100165565</th>\n",
       "      <td>session_1a59</td>\n",
       "      <td>77</td>\n",
       "      <td>17</td>\n",
       "      <td>17</td>\n",
       "      <td>5</td>\n",
       "    </tr>\n",
       "    <tr>\n",
       "      <th>100165566</th>\n",
       "      <td>session_b59c</td>\n",
       "      <td>77</td>\n",
       "      <td>17</td>\n",
       "      <td>6</td>\n",
       "      <td>17</td>\n",
       "    </tr>\n",
       "    <tr>\n",
       "      <th>100165567</th>\n",
       "      <td>session_461d</td>\n",
       "      <td>77</td>\n",
       "      <td>4</td>\n",
       "      <td>29</td>\n",
       "      <td>36</td>\n",
       "    </tr>\n",
       "  </tbody>\n",
       "</table>\n",
       "<p>100165568 rows × 5 columns</p>\n",
       "</div>"
      ],
      "text/plain": [
       "                     id  reset   x   y  map\n",
       "0          session_fb32      1   3   5   40\n",
       "1          session_0059      1   3   5   40\n",
       "2          session_7401      1   3   5   40\n",
       "3          session_f0b8      1   3   4   40\n",
       "4          session_abcf      1   3   5   40\n",
       "...                 ...    ...  ..  ..  ...\n",
       "100165563  session_b66d     77   9   5  197\n",
       "100165564  session_0e2b     77   2  29   22\n",
       "100165565  session_1a59     77  17  17    5\n",
       "100165566  session_b59c     77  17   6   17\n",
       "100165567  session_461d     77   4  29   36\n",
       "\n",
       "[100165568 rows x 5 columns]"
      ]
     },
     "execution_count": 7,
     "metadata": {},
     "output_type": "execute_result"
    }
   ],
   "source": [
    "df"
   ]
  },
  {
   "cell_type": "code",
   "execution_count": 8,
   "id": "f4223771-dc2b-4fcf-8e2f-fe7b1783256a",
   "metadata": {},
   "outputs": [
    {
     "data": {
      "text/plain": [
       "20325.805194805194"
      ]
     },
     "execution_count": 8,
     "metadata": {},
     "output_type": "execute_result"
    }
   ],
   "source": [
    "100165568 / (64*77)"
   ]
  },
  {
   "cell_type": "code",
   "execution_count": 9,
   "id": "c6acae41-cf35-476a-9ce9-49831ef740ed",
   "metadata": {},
   "outputs": [
    {
     "data": {
      "text/plain": [
       "1310720"
      ]
     },
     "execution_count": 9,
     "metadata": {},
     "output_type": "execute_result"
    }
   ],
   "source": [
    "2048*10*64#*76"
   ]
  },
  {
   "cell_type": "code",
   "execution_count": 10,
   "id": "8d5f7136-a688-4a41-baeb-a940011e2054",
   "metadata": {},
   "outputs": [
    {
     "data": {
      "text/html": [
       "<div>\n",
       "<style scoped>\n",
       "    .dataframe tbody tr th:only-of-type {\n",
       "        vertical-align: middle;\n",
       "    }\n",
       "\n",
       "    .dataframe tbody tr th {\n",
       "        vertical-align: top;\n",
       "    }\n",
       "\n",
       "    .dataframe thead th {\n",
       "        text-align: right;\n",
       "    }\n",
       "</style>\n",
       "<table border=\"1\" class=\"dataframe\">\n",
       "  <thead>\n",
       "    <tr style=\"text-align: right;\">\n",
       "      <th></th>\n",
       "      <th>id</th>\n",
       "      <th>reset</th>\n",
       "      <th>x</th>\n",
       "      <th>y</th>\n",
       "      <th>map</th>\n",
       "    </tr>\n",
       "  </thead>\n",
       "  <tbody>\n",
       "    <tr>\n",
       "      <th>1310719</th>\n",
       "      <td>session_d4aa</td>\n",
       "      <td>1</td>\n",
       "      <td>25</td>\n",
       "      <td>15</td>\n",
       "      <td>12</td>\n",
       "    </tr>\n",
       "    <tr>\n",
       "      <th>1310720</th>\n",
       "      <td>session_a1f9</td>\n",
       "      <td>2</td>\n",
       "      <td>5</td>\n",
       "      <td>13</td>\n",
       "      <td>39</td>\n",
       "    </tr>\n",
       "  </tbody>\n",
       "</table>\n",
       "</div>"
      ],
      "text/plain": [
       "                   id  reset   x   y  map\n",
       "1310719  session_d4aa      1  25  15   12\n",
       "1310720  session_a1f9      2   5  13   39"
      ]
     },
     "execution_count": 10,
     "metadata": {},
     "output_type": "execute_result"
    }
   ],
   "source": [
    "df[1310720 - 1 : 1310720 + 1]"
   ]
  },
  {
   "cell_type": "code",
   "execution_count": 56,
   "id": "677cb259-767e-4f5b-afb9-db3705c40b79",
   "metadata": {},
   "outputs": [],
   "source": [
    "games = 76\n",
    "envs = 64\n",
    "steps = 4*2048 # 256"
   ]
  },
  {
   "cell_type": "code",
   "execution_count": 57,
   "id": "bd7bb1e7-b0ed-43ae-9e96-c1059a99fd80",
   "metadata": {},
   "outputs": [],
   "source": [
    "chunks = []\n",
    "for i in range(76):\n",
    "  chunks.append(df[1310720*i:1310720*i+envs*steps])"
   ]
  },
  {
   "cell_type": "code",
   "execution_count": 58,
   "id": "98766c10-a28a-440a-a3b7-98823969bc93",
   "metadata": {},
   "outputs": [
    {
     "name": "stderr",
     "output_type": "stream",
     "text": [
      "100%|██████████████████████████████████████████████████████████████████████████████████████████████████████████████████████████████████████████████| 76/76 [10:54<00:00,  8.61s/it]\n"
     ]
    }
   ],
   "source": [
    "raw_xy = []\n",
    "for c in tqdm(chunks):\n",
    "    raw_xy += c[[\"x\",\"y\",\"map\"]].apply(\n",
    "        lambda row: local_to_global(row[\"x\"], row[\"y\"], row[\"map\"]), \n",
    "        axis=1,\n",
    "        result_type=\"expand\"\n",
    "    ).values.flatten().tolist()\n",
    "res = {\"envs\": envs, \"games\": games, \"steps\": steps, \"flat_xy\": raw_xy}"
   ]
  },
  {
   "cell_type": "code",
   "execution_count": 54,
   "id": "ca923ce9-43c1-4266-9023-98ebe0774a6f",
   "metadata": {},
   "outputs": [],
   "source": [
    " \n",
    "# Writing to sample.json\n",
    "with open(f\"global_coords_{envs}_envs_{steps}_steps_{games}_games.json\", \"w\") as outfile:\n",
    "    outfile.write(json.dumps(res, indent=4))"
   ]
  },
  {
   "cell_type": "code",
   "execution_count": 46,
   "id": "8637f527-3f23-4af6-8e4f-e87e84fba7eb",
   "metadata": {},
   "outputs": [
    {
     "name": "stdout",
     "output_type": "stream",
     "text": [
      " 30M\tglobal_coords_64_envs_256_steps_76_games.json\n"
     ]
    }
   ],
   "source": [
    "!du -h global_coords_64_envs_256_steps_76_games.json"
   ]
  },
  {
   "cell_type": "code",
   "execution_count": null,
   "id": "ec624115-e16f-461a-8233-d0564722294b",
   "metadata": {},
   "outputs": [],
   "source": []
  },
  {
   "cell_type": "code",
   "execution_count": null,
   "id": "336d16fe-13ef-4b5b-975f-c9d9f4588584",
   "metadata": {},
   "outputs": [],
   "source": []
  },
  {
   "cell_type": "code",
   "execution_count": null,
   "id": "0ddbb786-ce17-4c9b-867a-25f09dd9f844",
   "metadata": {},
   "outputs": [],
   "source": []
  }
 ],
 "metadata": {
  "kernelspec": {
   "display_name": "Python 3 (ipykernel)",
   "language": "python",
   "name": "python3"
  },
  "language_info": {
   "codemirror_mode": {
    "name": "ipython",
    "version": 3
   },
   "file_extension": ".py",
   "mimetype": "text/x-python",
   "name": "python",
   "nbconvert_exporter": "python",
   "pygments_lexer": "ipython3",
   "version": "3.10.11"
  }
 },
 "nbformat": 4,
 "nbformat_minor": 5
}
